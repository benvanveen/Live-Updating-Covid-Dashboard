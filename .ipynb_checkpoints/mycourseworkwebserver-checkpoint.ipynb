{
 "cells": [
  {
   "cell_type": "code",
   "execution_count": 2,
   "id": "6c7a7215",
   "metadata": {},
   "outputs": [],
   "source": [
    "from flask import request, render_template, Flask\n",
    "from datetime import datetime\n",
    "import time\n",
    "import sched\n",
    "import json\n",
    "import pytest"
   ]
  },
  {
   "cell_type": "code",
   "execution_count": 3,
   "id": "a1e8348d",
   "metadata": {},
   "outputs": [],
   "source": [
    "from covid_data_handler import parse_csv_data, minutes_to_seconds, process_covid_csv_data, update_covid\n",
    "from covid_data_handler import covid_API_request, schedule_covid_updates, hours_to_minutes, hhmm_to_seconds\n",
    "from covid_news_handling import news_API_request, update_news\n",
    "from covid_current_data_handler import cases_7_days, deaths_tot_and_hosp"
   ]
  },
  {
   "cell_type": "code",
   "execution_count": 4,
   "id": "324727b3",
   "metadata": {},
   "outputs": [],
   "source": [
    "with open(\"config.json\", \"r\", encoding=\"utf8\") as config_file:\n",
    "    config = json.load(config_file)"
   ]
  },
  {
   "cell_type": "code",
   "execution_count": 5,
   "id": "5ded6ada",
   "metadata": {},
   "outputs": [],
   "source": [
    "import logging\n",
    "logging.basicConfig(filename='sys.log',  level=logging.DEBUG)"
   ]
  },
  {
   "cell_type": "code",
   "execution_count": 6,
   "id": "27b8719a",
   "metadata": {},
   "outputs": [],
   "source": [
    "apps=Flask(__name__)"
   ]
  },
  {
   "cell_type": "code",
   "execution_count": 7,
   "id": "20085425",
   "metadata": {},
   "outputs": [],
   "source": [
    "news = news_API_request(base_url=config[\"api_base_url\"],\n",
    "                        api_country=config[\"api_country\"],\n",
    "                        covid_terms=config[\"terms\"],\n",
    "                        api_key=config[\"api_key\"])"
   ]
  },
  {
   "cell_type": "code",
   "execution_count": 7,
   "id": "f11214d7",
   "metadata": {},
   "outputs": [],
   "source": [
    "s=sched.scheduler(time.time,time.sleep)\n",
    "\n",
    "updates=[]\n",
    "def add_updates(a='label',b='date'):\n",
    "    \n",
    "        updates.append({\n",
    "            'title':a,\n",
    "            'content':b\n",
    "        })\n",
    "        return updates\n",
    "\n",
    "cases_7_days_eng = cases_7_days(loc=config[\"nation_location\"],loc_type=config[\"nation_location_type\"])\n",
    "deaths_and_hosp = deaths_tot_and_hosp(config[\"nation_location\"],config[\"nation_location_type\"])\n",
    "cases_7_days_loc = cases_7_days(config[\"local_location\"],config[\"local_location_type\"])"
   ]
  },
  {
   "cell_type": "code",
   "execution_count": 8,
   "id": "54ad4821",
   "metadata": {},
   "outputs": [],
   "source": [
    "# OLD COVID DATA IS IN THE FOLLOWING ORDER: CASES7DAYSENG, CASES7DAYSLOC, DEATHS, HOSPITAL CASES\n",
    "old_covid_data=[]\n",
    "old_covid_data.append(cases_7_days_eng)\n",
    "old_covid_data.append(cases_7_days_loc)\n",
    "for i in deaths_and_hosp:\n",
    "    old_covid_data.append(i)"
   ]
  },
  {
   "cell_type": "code",
   "execution_count": 9,
   "id": "a428c84f",
   "metadata": {},
   "outputs": [],
   "source": [
    "def del_update(update_name):\n",
    "    for update in updates:\n",
    "        if update[\"title\"] == update_name:\n",
    "            s.cancel(update[\"event\"])\n",
    "            print(update[\"title\"])\n",
    "            del updates[i]\n",
    "            break"
   ]
  },
  {
   "cell_type": "code",
   "execution_count": 10,
   "id": "d836feef",
   "metadata": {},
   "outputs": [],
   "source": [
    "def del_news(headline):\n",
    "    for article in news:\n",
    "        if article['title']==headline:\n",
    "            del article"
   ]
  },
  {
   "cell_type": "code",
   "execution_count": 15,
   "id": "61ed4868",
   "metadata": {},
   "outputs": [],
   "source": [
    "def update_covid():\n",
    "    \n",
    "    cases_7_days_eng = cases_7_days(loc=config[\"nation_location\"],loc_type=config[\"nation_location_type\"])\n",
    "    deaths_and_hosp = deaths_tot_and_hosp()\n",
    "    deaths=deaths_and_hosp[0]\n",
    "    hosp=deaths_and_hosp[1]\n",
    "    cases_7_days_loc = cases_7_days()\n",
    "    \n",
    "    # updates the old covid data to the new set of updated data\n",
    "    old_covid_data[0]=cases_7_days_eng\n",
    "    old_covid_data[1]=cases_7_days_loc\n",
    "    old_covid_data[2]=deaths\n",
    "    old_covid_data[3]=hosp\n",
    "    \n",
    "def update_news():\n",
    "    old_news=news # sets the previous call of news_API_request() to a dataset called old news\n",
    "    new_news=news_API_request(base_url=config[\"api_base_url\"],\n",
    "                              api_country=config[\"api_country\"],\n",
    "                              covid_terms=config[\"terms\"],\n",
    "                              api_key=config[\"api_key\"])\n",
    "    for i in new_news:\n",
    "        if i in old_news:\n",
    "            new_news.remove(i)\n",
    "    del news[0:len(news)]\n",
    "    for ii in new_news:\n",
    "        news.append(ii)\n",
    "    return news #############"
   ]
  },
  {
   "cell_type": "code",
   "execution_count": 22,
   "id": "dd2bf364",
   "metadata": {},
   "outputs": [
    {
     "data": {
      "text/plain": [
       "[{'source': {'id': None, 'name': 'The Guardian'},\n",
       "  'author': 'Graeme Wearden',\n",
       "  'title': 'Gas prices at record highs as energy crunch worsens; UK’s £1bn Covid bailout criticised – business live - The Guardian',\n",
       "  'description': 'Rolling coverage of the latest economic and financial news',\n",
       "  'url': 'https://www.theguardian.com/business/live/2021/dec/22/gas-prices-record-highs-energy-crunch-covid-bailout-hospitality-stock-markets-business-live',\n",
       "  'urlToImage': 'https://i.guim.co.uk/img/media/be1d850e6125e160a17519c7daf95a13cf235112/0_296_4444_2667/master/4444.jpg?width=1200&height=630&quality=85&auto=format&fit=crop&overlay-align=bottom%2Cleft&overlay-width=100p&overlay-base64=L2ltZy9zdGF0aWMvb3ZlcmxheXMvdGctbGl2ZS5wbmc&enable=upscale&s=c42ea8bbcb00080446b1498cef476bf3',\n",
       "  'publishedAt': '2021-12-22T10:34:18Z',\n",
       "  'content': None},\n",
       " {'source': {'id': 'bbc-news', 'name': 'BBC News'},\n",
       "  'author': 'https://www.facebook.com/bbcnews',\n",
       "  'title': 'Covid: Self-isolation cut from 10 days to seven with negative test - BBC News',\n",
       "  'description': 'Infected people in England can end quarantine early with negative test results on day six and seven.',\n",
       "  'url': 'https://www.bbc.co.uk/news/uk-politics-59749447',\n",
       "  'urlToImage': 'https://ichef.bbci.co.uk/news/1024/branded_news/7710/production/_122308403_gettyimages-1333335753.jpg',\n",
       "  'publishedAt': '2021-12-22T09:32:57Z',\n",
       "  'content': 'By Dulcie LeeBBC News\\r\\nImage source, Getty Images\\r\\nPeople infected with Covid in England can stop self-isolating up to three days early if they test negative twice, it has been announced.\\r\\nThey will … [+5452 chars]'}]"
      ]
     },
     "execution_count": 22,
     "metadata": {},
     "output_type": "execute_result"
    }
   ],
   "source": [
    "update_news()"
   ]
  },
  {
   "cell_type": "code",
   "execution_count": 13,
   "id": "5c4aee1d",
   "metadata": {},
   "outputs": [],
   "source": [
    "@apps.route('/index')\n",
    "def base():\n",
    "    \n",
    "    news = news_API_request(base_url=config[\"api_base_url\"],\n",
    "                        api_country=config[\"api_country\"],\n",
    "                        covid_terms=config[\"terms\"],\n",
    "                        api_key=config[\"api_key\"])\n",
    "    \n",
    "    s.run(blocking=False)\n",
    "    \n",
    "    # Obtaining arguements entered in the server by the user\n",
    "    label = str(request.args.get('two'))\n",
    "    date = request.args.get('update')\n",
    "    cov_button = request.args.get(\"covid-data\")\n",
    "    repeat_button = request.args.get(\"repeat\")\n",
    "    news_button = request.args.get(\"news\")\n",
    "    delete_update = request.args.get(\"update_item\")\n",
    "    delete_news = request.args.get(\"notif\")\n",
    "    \n",
    "    # states the functions to run depending on the buttons selected on the website\n",
    "    if date:\n",
    "        add_updates(a=label,b=date)\n",
    "        \n",
    "    if delete_update:\n",
    "        del_update(delete_update)\n",
    "        \n",
    "    if delete_news:\n",
    "        news = del_news(delete_news)\n",
    "        \n",
    "    if news_button:\n",
    "        schedule_covid_updates(update_interval=date,update_name=update_news)\n",
    "        \n",
    "    \n",
    "    if cov_button:\n",
    "        update_covid(update_interval,update_name)\n",
    "    \n",
    "    # what appears when you go to the website\n",
    "    return render_template('index.html',\n",
    "                           title='Covid updates UK',\n",
    "                           location=config[\"local_location\"],\n",
    "                           local_7day_infections=str(old_covid_data[1]),\n",
    "                           nation_location=config[\"nation_location\"],\n",
    "                           national_7day_infections=str(old_covid_data[0]),\n",
    "                           hospital_cases='Current hospital cases: '+str(old_covid_data[3]),\n",
    "                           deaths_total='Total deaths: '+str(old_covid_data[2]),\n",
    "                           updates=updates,\n",
    "                           news_articles=news,\n",
    "                           image = config['image']\n",
    "                          )"
   ]
  },
  {
   "cell_type": "code",
   "execution_count": null,
   "id": "d3f96995",
   "metadata": {},
   "outputs": [
    {
     "name": "stdout",
     "output_type": "stream",
     "text": [
      " * Serving Flask app \"__main__\" (lazy loading)\n",
      " * Environment: production\n",
      "   WARNING: This is a development server. Do not use it in a production deployment.\n",
      "   Use a production WSGI server instead.\n",
      " * Debug mode: off\n"
     ]
    }
   ],
   "source": [
    "if __name__=='__main__':\n",
    "    apps.run(debug=False)"
   ]
  }
 ],
 "metadata": {
  "kernelspec": {
   "display_name": "Python 3",
   "language": "python",
   "name": "python3"
  },
  "language_info": {
   "codemirror_mode": {
    "name": "ipython",
    "version": 3
   },
   "file_extension": ".py",
   "mimetype": "text/x-python",
   "name": "python",
   "nbconvert_exporter": "python",
   "pygments_lexer": "ipython3",
   "version": "3.8.8"
  }
 },
 "nbformat": 4,
 "nbformat_minor": 5
}
